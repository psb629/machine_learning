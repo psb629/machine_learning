{
 "cells": [
  {
   "cell_type": "code",
   "execution_count": 1,
   "metadata": {},
   "outputs": [],
   "source": [
    "%matplotlib inline"
   ]
  },
  {
   "cell_type": "markdown",
   "metadata": {},
   "source": [
    "\n",
    "# Comparison of LDA and PCA 2D projection of Iris dataset\n",
    "\n",
    "The Iris dataset represents 3 kind of Iris flowers (Setosa, Versicolour\n",
    "and Virginica) with 4 attributes: sepal length, sepal width, petal length\n",
    "and petal width.\n",
    "\n",
    "Principal Component Analysis (PCA) applied to this data identifies the\n",
    "combination of attributes (principal components, or directions in the\n",
    "feature space) that account for the most variance in the data. Here we\n",
    "plot the different samples on the 2 first principal components.\n",
    "\n",
    "Linear Discriminant Analysis (LDA) tries to identify attributes that\n",
    "account for the most variance *between classes*. In particular,\n",
    "LDA, in contrast to PCA, is a supervised method, using known class labels.\n"
   ]
  },
  {
   "cell_type": "code",
   "execution_count": 1,
   "metadata": {},
   "outputs": [
    {
     "name": "stdout",
     "output_type": "stream",
     "text": [
      "Automatically created module for IPython interactive environment\n"
     ]
    }
   ],
   "source": [
    "print(__doc__)"
   ]
  },
  {
   "cell_type": "code",
   "execution_count": 2,
   "metadata": {},
   "outputs": [],
   "source": [
    "import matplotlib.pyplot as plt\n",
    "\n",
    "from sklearn import datasets\n",
    "from sklearn.decomposition import PCA\n",
    "from sklearn.discriminant_analysis import LinearDiscriminantAnalysis\n",
    "from sklearn.preprocessing import StandardScaler"
   ]
  },
  {
   "cell_type": "code",
   "execution_count": 3,
   "metadata": {},
   "outputs": [],
   "source": [
    "iris = datasets.load_iris()"
   ]
  },
  {
   "cell_type": "code",
   "execution_count": 4,
   "metadata": {},
   "outputs": [],
   "source": [
    "iris_scaled = StandardScaler().fit_transform(iris.data)"
   ]
  },
  {
   "cell_type": "code",
   "execution_count": 5,
   "metadata": {},
   "outputs": [
    {
     "data": {
      "text/plain": [
       "(150, 4)"
      ]
     },
     "execution_count": 5,
     "metadata": {},
     "output_type": "execute_result"
    }
   ],
   "source": [
    "## 150 samples, 4 features\n",
    "iris.data.shape"
   ]
  },
  {
   "cell_type": "code",
   "execution_count": 6,
   "metadata": {},
   "outputs": [
    {
     "data": {
      "text/plain": [
       "(150,)"
      ]
     },
     "execution_count": 6,
     "metadata": {},
     "output_type": "execute_result"
    }
   ],
   "source": [
    "## iris types\n",
    "iris.target.shape"
   ]
  },
  {
   "cell_type": "code",
   "execution_count": 7,
   "metadata": {},
   "outputs": [
    {
     "data": {
      "text/plain": [
       "array(['setosa', 'versicolor', 'virginica'], dtype='<U10')"
      ]
     },
     "execution_count": 7,
     "metadata": {},
     "output_type": "execute_result"
    }
   ],
   "source": [
    "## iris types\n",
    "iris.target_names"
   ]
  },
  {
   "cell_type": "code",
   "execution_count": 8,
   "metadata": {},
   "outputs": [],
   "source": [
    "X = iris.data\n",
    "y = iris.target\n",
    "target_names = iris.target_names"
   ]
  },
  {
   "cell_type": "code",
   "execution_count": 48,
   "metadata": {},
   "outputs": [],
   "source": [
    "pca = PCA(n_components=2)\n",
    "X_r = pca.fit(X).transform(X)"
   ]
  },
  {
   "cell_type": "code",
   "execution_count": 49,
   "metadata": {},
   "outputs": [
    {
     "data": {
      "text/plain": [
       "(2, 4)"
      ]
     },
     "execution_count": 49,
     "metadata": {},
     "output_type": "execute_result"
    }
   ],
   "source": [
    "temp = pca.components_\n",
    "temp.shape"
   ]
  },
  {
   "cell_type": "code",
   "execution_count": 50,
   "metadata": {},
   "outputs": [
    {
     "data": {
      "text/plain": [
       "array([[ 0.41395374,  0.20812027,  0.31167705,  0.31959257],\n",
       "       [ 0.20812027,  0.92502292, -0.13371979, -0.09033542],\n",
       "       [ 0.31167705, -0.13371979,  0.3374792 ,  0.32948965],\n",
       "       [ 0.31959257, -0.09033542,  0.32948965,  0.32354414]])"
      ]
     },
     "execution_count": 50,
     "metadata": {},
     "output_type": "execute_result"
    }
   ],
   "source": [
    "import numpy as np\n",
    "\n",
    "np.matmul(temp.T,temp)"
   ]
  },
  {
   "cell_type": "code",
   "execution_count": 53,
   "metadata": {},
   "outputs": [
    {
     "data": {
      "text/plain": [
       "array([[-2.22044605e-15, -2.44249065e-15],\n",
       "       [-2.22044605e-15, -2.55351296e-15],\n",
       "       [-2.22044605e-15, -2.49800181e-15],\n",
       "       [-2.22044605e-15, -2.55351296e-15],\n",
       "       [-2.22044605e-15, -2.66453526e-15],\n",
       "       [-2.66453526e-15, -2.22044605e-15],\n",
       "       [-2.22044605e-15, -2.55351296e-15],\n",
       "       [-2.22044605e-15, -2.58126853e-15],\n",
       "       [-2.66453526e-15, -2.22044605e-15],\n",
       "       [-2.22044605e-15, -2.55351296e-15],\n",
       "       [-2.22044605e-15, -2.22044605e-15],\n",
       "       [-2.22044605e-15, -2.60902411e-15],\n",
       "       [-2.22044605e-15, -2.66453526e-15],\n",
       "       [-2.66453526e-15, -2.55351296e-15],\n",
       "       [-2.66453526e-15, -2.44249065e-15],\n",
       "       [-2.22044605e-15, -2.66453526e-15],\n",
       "       [-2.66453526e-15, -2.44249065e-15],\n",
       "       [-2.22044605e-15, -2.44249065e-15],\n",
       "       [-1.99840144e-15, -2.44249065e-15],\n",
       "       [-2.22044605e-15, -2.44249065e-15],\n",
       "       [-1.99840144e-15, -2.44249065e-15],\n",
       "       [-2.66453526e-15, -2.44249065e-15],\n",
       "       [-2.66453526e-15, -2.55351296e-15],\n",
       "       [-2.22044605e-15, -2.41473508e-15],\n",
       "       [-2.22044605e-15, -2.63677968e-15],\n",
       "       [-2.44249065e-15, -2.55351296e-15],\n",
       "       [-2.66453526e-15, -2.58126853e-15],\n",
       "       [-2.22044605e-15, -2.55351296e-15],\n",
       "       [-2.22044605e-15, -2.55351296e-15],\n",
       "       [-2.66453526e-15, -2.55351296e-15],\n",
       "       [-2.66453526e-15, -2.55351296e-15],\n",
       "       [-2.22044605e-15, -2.49800181e-15],\n",
       "       [-2.22044605e-15, -2.44249065e-15],\n",
       "       [-2.66453526e-15, -2.22044605e-15],\n",
       "       [-2.66453526e-15, -2.55351296e-15],\n",
       "       [-2.66453526e-15, -2.52575738e-15],\n",
       "       [-2.22044605e-15, -2.44249065e-15],\n",
       "       [-2.22044605e-15, -2.66453526e-15],\n",
       "       [-2.66453526e-15, -2.44249065e-15],\n",
       "       [-2.22044605e-15, -2.49800181e-15],\n",
       "       [-2.66453526e-15, -2.55351296e-15],\n",
       "       [-2.44249065e-15, -2.66453526e-15],\n",
       "       [-2.66453526e-15, -2.49800181e-15],\n",
       "       [-2.44249065e-15, -2.55351296e-15],\n",
       "       [-2.22044605e-15, -2.66453526e-15],\n",
       "       [-2.22044605e-15, -2.66453526e-15],\n",
       "       [-2.22044605e-15, -2.66453526e-15],\n",
       "       [-2.66453526e-15, -2.49800181e-15],\n",
       "       [-2.22044605e-15, -2.33146835e-15],\n",
       "       [-2.66453526e-15, -2.44249065e-15],\n",
       "       [-2.22044605e-15, -2.55351296e-15],\n",
       "       [-2.10942375e-15, -2.44249065e-15],\n",
       "       [-2.22044605e-15, -2.44249065e-15],\n",
       "       [-2.22044605e-15, -2.44249065e-15],\n",
       "       [-1.99840144e-15, -2.41473508e-15],\n",
       "       [-2.10942375e-15, -2.44249065e-15],\n",
       "       [-2.10942375e-15, -2.44249065e-15],\n",
       "       [-2.10942375e-15, -2.22044605e-15],\n",
       "       [-2.22044605e-15, -2.46330734e-15],\n",
       "       [-2.16493490e-15, -2.44249065e-15],\n",
       "       [-2.34534614e-15, -3.10862447e-15],\n",
       "       [-2.16493490e-15, -2.45636844e-15],\n",
       "       [-2.22044605e-15, -2.22044605e-15],\n",
       "       [-2.10942375e-15, -2.49800181e-15],\n",
       "       [-2.15105711e-15, -2.49800181e-15],\n",
       "       [-2.33146835e-15, -2.44249065e-15],\n",
       "       [-2.16493490e-15, -2.44249065e-15],\n",
       "       [-2.19269047e-15, -2.55351296e-15],\n",
       "       [-1.99840144e-15, -2.44249065e-15],\n",
       "       [-2.22044605e-15, -2.22044605e-15],\n",
       "       [-2.22044605e-15, -2.44249065e-15],\n",
       "       [-2.16493490e-15, -2.44249065e-15],\n",
       "       [-1.99840144e-15, -2.33146835e-15],\n",
       "       [-2.10942375e-15, -2.44249065e-15],\n",
       "       [-2.10942375e-15, -2.47024623e-15],\n",
       "       [-2.22044605e-15, -2.38697950e-15],\n",
       "       [-2.22044605e-15, -2.47024623e-15],\n",
       "       [-2.22044605e-15, -2.44249065e-15],\n",
       "       [-2.22044605e-15, -2.52575738e-15],\n",
       "       [-2.17881269e-15, -2.44249065e-15],\n",
       "       [-2.13717932e-15, -2.22044605e-15],\n",
       "       [-2.13717932e-15, -2.22044605e-15],\n",
       "       [-2.19269047e-15, -2.66453526e-15],\n",
       "       [-2.22044605e-15, -2.55351296e-15],\n",
       "       [-2.19269047e-15, -2.49800181e-15],\n",
       "       [-2.22044605e-15, -2.55351296e-15],\n",
       "       [-2.22044605e-15, -2.55351296e-15],\n",
       "       [-2.22044605e-15, -2.66453526e-15],\n",
       "       [-2.16493490e-15, -2.47024623e-15],\n",
       "       [-2.22044605e-15, -2.22044605e-15],\n",
       "       [-2.10942375e-15, -2.44249065e-15],\n",
       "       [-2.22044605e-15, -2.45636844e-15],\n",
       "       [-2.10942375e-15, -2.44249065e-15],\n",
       "       [-2.38697950e-15, -2.66453526e-15],\n",
       "       [-2.16493490e-15, -2.55351296e-15],\n",
       "       [-2.19269047e-15, -2.47024623e-15],\n",
       "       [-2.16493490e-15, -2.49800181e-15],\n",
       "       [-2.22044605e-15, -2.49800181e-15],\n",
       "       [-2.16493490e-15, -2.44249065e-15],\n",
       "       [-2.10942375e-15, -2.44249065e-15],\n",
       "       [-2.44249065e-15, -2.55351296e-15],\n",
       "       [-1.99840144e-15, -2.44249065e-15],\n",
       "       [-2.22044605e-15, -2.55351296e-15],\n",
       "       [-2.22044605e-15, -2.49800181e-15],\n",
       "       [-1.99840144e-15, -2.38697950e-15],\n",
       "       [-2.22044605e-15, -2.44249065e-15],\n",
       "       [-2.22044605e-15, -2.44249065e-15],\n",
       "       [-2.22044605e-15, -2.55351296e-15],\n",
       "       [-2.22044605e-15, -2.22044605e-15],\n",
       "       [-2.22044605e-15, -2.44249065e-15],\n",
       "       [-1.99840144e-15, -2.33146835e-15],\n",
       "       [-2.22044605e-15, -2.60902411e-15],\n",
       "       [-2.22044605e-15, -2.38697950e-15],\n",
       "       [-2.22044605e-15, -2.44249065e-15],\n",
       "       [-1.99840144e-15, -2.44249065e-15],\n",
       "       [-2.22044605e-15, -2.55351296e-15],\n",
       "       [-2.22044605e-15, -2.44249065e-15],\n",
       "       [-1.77635684e-15, -2.66453526e-15],\n",
       "       [-2.66453526e-15, -2.47024623e-15],\n",
       "       [-1.99840144e-15, -2.44249065e-15],\n",
       "       [-2.66453526e-15, -2.55351296e-15],\n",
       "       [-1.99840144e-15, -2.33146835e-15],\n",
       "       [-2.22044605e-15, -2.49800181e-15],\n",
       "       [-2.22044605e-15, -2.44249065e-15],\n",
       "       [-2.22044605e-15, -2.44249065e-15],\n",
       "       [-2.66453526e-15, -2.66453526e-15],\n",
       "       [-2.22044605e-15, -2.44249065e-15],\n",
       "       [-2.22044605e-15, -2.47024623e-15],\n",
       "       [-1.99840144e-15, -2.38697950e-15],\n",
       "       [-1.99840144e-15, -2.44249065e-15],\n",
       "       [-2.22044605e-15, -2.49800181e-15],\n",
       "       [-2.66453526e-15, -2.22044605e-15],\n",
       "       [-1.77635684e-15, -2.44249065e-15],\n",
       "       [-1.99840144e-15, -2.44249065e-15],\n",
       "       [-2.44249065e-15, -2.55351296e-15],\n",
       "       [-2.22044605e-15, -2.44249065e-15],\n",
       "       [-2.22044605e-15, -2.66453526e-15],\n",
       "       [-2.22044605e-15, -2.44249065e-15],\n",
       "       [-2.10942375e-15, -2.47024623e-15],\n",
       "       [-2.22044605e-15, -2.55351296e-15],\n",
       "       [-1.77635684e-15, -2.55351296e-15],\n",
       "       [-1.99840144e-15, -2.44249065e-15],\n",
       "       [-1.99840144e-15, -2.44249065e-15],\n",
       "       [-2.66453526e-15, -2.44249065e-15],\n",
       "       [-2.22044605e-15, -2.22044605e-15],\n",
       "       [-1.99840144e-15, -2.44249065e-15],\n",
       "       [-2.22044605e-15, -2.33146835e-15],\n",
       "       [-1.77635684e-15, -2.38697950e-15],\n",
       "       [-2.22044605e-15, -2.44249065e-15],\n",
       "       [-2.10942375e-15, -2.47024623e-15]])"
      ]
     },
     "execution_count": 53,
     "metadata": {},
     "output_type": "execute_result"
    }
   ],
   "source": [
    "np.matmul(X, temp.T) - X_r"
   ]
  },
  {
   "cell_type": "code",
   "execution_count": 10,
   "metadata": {},
   "outputs": [],
   "source": [
    "lda = LinearDiscriminantAnalysis(n_components=2)\n",
    "X_r2 = lda.fit(X, y).transform(X)"
   ]
  },
  {
   "cell_type": "code",
   "execution_count": 11,
   "metadata": {},
   "outputs": [
    {
     "name": "stdout",
     "output_type": "stream",
     "text": [
      "explained variance ratio (first two components): [0.92461872 0.05306648]\n"
     ]
    }
   ],
   "source": [
    "# Percentage of variance explained for each components\n",
    "print('explained variance ratio (first two components): %s'\n",
    "      % str(pca.explained_variance_ratio_))"
   ]
  },
  {
   "cell_type": "code",
   "execution_count": 12,
   "metadata": {},
   "outputs": [
    {
     "data": {
      "image/png": "[encoded data removed]",
      "text/plain": [
       "<Figure size 432x288 with 1 Axes>"
      ]
     },
     "metadata": {
      "needs_background": "light"
     },
     "output_type": "display_data"
    },
    {
     "data": {
      "image/png": "[encoded data removed]",
      "text/plain": [
       "<Figure size 432x288 with 1 Axes>"
      ]
     },
     "metadata": {
      "needs_background": "light"
     },
     "output_type": "display_data"
    }
   ],
   "source": [
    "plt.figure()\n",
    "colors = ['navy', 'turquoise', 'darkorange']\n",
    "lw = 2\n",
    "\n",
    "for color, i, target_name in zip(colors, [0, 1, 2], target_names):\n",
    "    plt.scatter(X_r[y == i, 0], X_r[y == i, 1], color=color, alpha=.8, lw=lw,\n",
    "                label=target_name)\n",
    "plt.legend(loc='best', shadow=False, scatterpoints=1)\n",
    "plt.title('PCA of IRIS dataset')\n",
    "\n",
    "plt.figure()\n",
    "for color, i, target_name in zip(colors, [0, 1, 2], target_names):\n",
    "    plt.scatter(X_r2[y == i, 0], X_r2[y == i, 1], alpha=.8, color=color,\n",
    "                label=target_name)\n",
    "plt.legend(loc='best', shadow=False, scatterpoints=1)\n",
    "plt.title('LDA of IRIS dataset')\n",
    "\n",
    "plt.show()"
   ]
  },
  {
   "cell_type": "code",
   "execution_count": null,
   "metadata": {},
   "outputs": [],
   "source": []
  }
 ],
 "metadata": {
  "kernelspec": {
   "display_name": "Python 3",
   "language": "python",
   "name": "python3"
  },
  "language_info": {
   "codemirror_mode": {
    "name": "ipython",
    "version": 3
   },
   "file_extension": ".py",
   "mimetype": "text/x-python",
   "name": "python",
   "nbconvert_exporter": "python",
   "pygments_lexer": "ipython3",
   "version": "3.8.5"
  }
 },
 "nbformat": 4,
 "nbformat_minor": 1
}
